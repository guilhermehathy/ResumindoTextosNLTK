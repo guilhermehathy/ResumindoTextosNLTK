{
 "cells": [
  {
   "cell_type": "markdown",
   "metadata": {},
   "source": [
    "# Resumindo textos utilizando o NLTK"
   ]
  },
  {
   "cell_type": "markdown",
   "metadata": {},
   "source": [
    "Importando as bibliotecas"
   ]
  },
  {
   "cell_type": "code",
   "execution_count": 32,
   "metadata": {},
   "outputs": [],
   "source": [
    "from urllib.request import Request, urlopen\n",
    "from bs4 import BeautifulSoup\n",
    "from nltk.tokenize import word_tokenize\n",
    "from nltk.tokenize import sent_tokenize\n",
    "from nltk.corpus import stopwords\n",
    "from string import punctuation\n",
    "from nltk.probability import FreqDist\n",
    "from collections import defaultdict\n",
    "from heapq import nlargest"
   ]
  },
  {
   "cell_type": "markdown",
   "metadata": {},
   "source": [
    "Fazendo o scraping do blog do Leg"
   ]
  },
  {
   "cell_type": "code",
   "execution_count": 36,
   "metadata": {},
   "outputs": [],
   "source": [
    "link = Request('http://blog.leg.ufpr.br/archives/161')\n",
    "pagina = urlopen(link).read().decode('utf-8', 'ignore')\n",
    "soup = BeautifulSoup(pagina, \"lxml\")\n",
    "texto = soup.find(\"div\", {\"class\": \"entry-content\"}).text"
   ]
  },
  {
   "cell_type": "markdown",
   "metadata": {},
   "source": [
    "Printando o inicio do nosso texto"
   ]
  },
  {
   "cell_type": "code",
   "execution_count": 37,
   "metadata": {},
   "outputs": [
    {
     "data": {
      "text/plain": [
       "'\\nOlá Mundo!\\nEsse é o primeiro post do blog do LEG, e assim como um programa “Hello World!”, serve para testar suas funcionalidades e apresentá-lo ao mundo.\\nNeste blog pretendemos divulgar tutoriais sobre o R, shell Linux e outras ferramentas livres, conteúdos sobre Estatística e divulgar eventos e s'"
      ]
     },
     "execution_count": 37,
     "metadata": {},
     "output_type": "execute_result"
    }
   ],
   "source": [
    "texto[0:300]"
   ]
  },
  {
   "cell_type": "markdown",
   "metadata": {},
   "source": [
    "### Dividindo o texto em sentenças, depois em palavras e removendo as stopwords"
   ]
  },
  {
   "cell_type": "code",
   "execution_count": 38,
   "metadata": {},
   "outputs": [],
   "source": [
    "sentencas = sent_tokenize(texto)\n",
    "palavras = word_tokenize(texto.lower())\n",
    "stopwords = set(stopwords.words('portuguese') + list(punctuation))\n",
    "palavras_sem_stopwords = [palavra for palavra in palavras if palavra not in stopwords]"
   ]
  },
  {
   "cell_type": "markdown",
   "metadata": {},
   "source": [
    "Agora criaremos a frequência das palavras, para verificar quais as mais importantes."
   ]
  },
  {
   "cell_type": "code",
   "execution_count": 39,
   "metadata": {},
   "outputs": [
    {
     "data": {
      "text/plain": [
       "FreqDist({'aberta': 1,\n",
       "          'about': 1,\n",
       "          'acontecem': 1,\n",
       "          'ainda': 1,\n",
       "          'aplicações': 1,\n",
       "          'apresentações': 1,\n",
       "          'apresentá-lo': 1,\n",
       "          'assim': 1,\n",
       "          'assine': 1,\n",
       "          'blog': 4,\n",
       "          'compartilhar': 2,\n",
       "          'construído': 1,\n",
       "          'conteúdos': 1,\n",
       "          'códigos-fonte': 1,\n",
       "          'dentro': 1,\n",
       "          'desenvolvidas': 1,\n",
       "          'desse': 1,\n",
       "          'disponibilizadas': 1,\n",
       "          'disponibilizados': 1,\n",
       "          'diversas': 1,\n",
       "          'divulgar': 2,\n",
       "          'documentos': 1,\n",
       "          'eficiente': 1,\n",
       "          'equipe': 1,\n",
       "          'esforço': 2,\n",
       "          'estatística': 1,\n",
       "          'eventos': 1,\n",
       "          'faz': 1,\n",
       "          'fazem': 1,\n",
       "          'feed': 1,\n",
       "          'ferramentas': 2,\n",
       "          'fique': 1,\n",
       "          'funcionalidades': 1,\n",
       "          'gitlab': 1,\n",
       "          'hello': 1,\n",
       "          'hospedado': 1,\n",
       "          'laboratório': 1,\n",
       "          'leg': 7,\n",
       "          'linux': 1,\n",
       "          'livres': 1,\n",
       "          'maneira': 1,\n",
       "          'materiais': 1,\n",
       "          'mundo': 2,\n",
       "          'neste': 1,\n",
       "          'notícias': 1,\n",
       "          'novidades': 1,\n",
       "          'novo': 1,\n",
       "          'olá': 1,\n",
       "          'onde': 1,\n",
       "          'outras': 1,\n",
       "          'pacotes': 1,\n",
       "          'parte': 2,\n",
       "          'pode': 1,\n",
       "          'post': 1,\n",
       "          'pretendemos': 1,\n",
       "          'primeiro': 1,\n",
       "          'programa': 1,\n",
       "          'programadas': 1,\n",
       "          'página': 1,\n",
       "          'r': 3,\n",
       "          'saber': 2,\n",
       "          'scripts': 1,\n",
       "          'seminários': 1,\n",
       "          'serve': 1,\n",
       "          'servidor': 1,\n",
       "          'shell': 2,\n",
       "          'shiny': 1,\n",
       "          'sobre': 4,\n",
       "          'testar': 1,\n",
       "          'tutoriais': 1,\n",
       "          'utilizado': 1,\n",
       "          'ver': 1,\n",
       "          'visite': 2,\n",
       "          'web': 1,\n",
       "          'wiki': 1,\n",
       "          'wordpress': 1,\n",
       "          'world': 1,\n",
       "          'é': 1,\n",
       "          '“': 1,\n",
       "          '”': 1})"
      ]
     },
     "execution_count": 39,
     "metadata": {},
     "output_type": "execute_result"
    }
   ],
   "source": [
    "frequencia = FreqDist(palavras_sem_stopwords)\n",
    "frequencia"
   ]
  },
  {
   "cell_type": "markdown",
   "metadata": {},
   "source": [
    "### Verificando quais as sentenças mais importantes."
   ]
  },
  {
   "cell_type": "code",
   "execution_count": 40,
   "metadata": {},
   "outputs": [],
   "source": [
    "sentencas_importantes = defaultdict(int)\n",
    "for i, sentenca in enumerate(sentencas):\n",
    "    for palavra in word_tokenize(sentenca.lower()):\n",
    "        if palavra in frequencia:\n",
    "            sentencas_importantes[i] += frequencia[palavra]"
   ]
  },
  {
   "cell_type": "markdown",
   "metadata": {},
   "source": [
    "Vamos pegar as n sentenças mais importantes, podemos variar esse numero conforme o tamanho do texto. No caso, pegaremos as 4 mais importantes."
   ]
  },
  {
   "cell_type": "code",
   "execution_count": 41,
   "metadata": {},
   "outputs": [
    {
     "name": "stdout",
     "output_type": "stream",
     "text": [
      "Neste blog pretendemos divulgar tutoriais sobre o R, shell Linux e outras ferramentas livres, conteúdos sobre Estatística e divulgar eventos e seminários que acontecem no LEG.\n",
      "Como você pode ver, o blog foi construído com o WordPress (hospedado em um servidor do LEG), e faz parte de uma novo esforço da equipe do LEG para compartilhar, de maneira ainda mais aberta e eficiente, as ferramentas desenvolvidas no Laboratório.\n",
      "Fazem parte desse esforço também o GitLab, utilizado para compartilhar códigos-fonte de pacotes do R, shell scripts, documentos e apresentações, e o Shiny, onde diversas aplicações web programadas em R são disponibilizadas.\n",
      "Para saber mais sobre o blog, visite a página About, e para saber mais sobre o LEG visite a wiki do LEG.\n"
     ]
    }
   ],
   "source": [
    "idx_sentencas_importantes = nlargest(4, sentencas_importantes, sentencas_importantes.get)\n",
    "for i in sorted(idx_sentencas_importantes):\n",
    "    print(sentencas[i])"
   ]
  }
 ],
 "metadata": {
  "kernelspec": {
   "display_name": "Python 3",
   "language": "python",
   "name": "python3"
  },
  "language_info": {
   "codemirror_mode": {
    "name": "ipython",
    "version": 3
   },
   "file_extension": ".py",
   "mimetype": "text/x-python",
   "name": "python",
   "nbconvert_exporter": "python",
   "pygments_lexer": "ipython3",
   "version": "3.6.3"
  }
 },
 "nbformat": 4,
 "nbformat_minor": 2
}
